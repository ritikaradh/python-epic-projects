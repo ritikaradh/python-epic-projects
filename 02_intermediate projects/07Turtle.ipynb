{
 "cells": [
  {
   "cell_type": "code",
   "execution_count": 1,
   "metadata": {},
   "outputs": [],
   "source": [
    "import turtle\n",
    "\n",
    "from turtle import Turtle, Screen\n",
    "#the above line basically means\n",
    "#from 'turtle' module import 'Turtle' class\n",
    "\n",
    "from prettytable import Prettytable"
   ]
  },
  {
   "cell_type": "code",
   "execution_count": 2,
   "metadata": {},
   "outputs": [],
   "source": [
    "#creating an instance or new object of the class Turtle\n",
    "timmy = Turtle()\n",
    "timmy.shape(\"turtle\")\n",
    "timmy.color(\"coral\")"
   ]
  },
  {
   "cell_type": "code",
   "execution_count": 3,
   "metadata": {},
   "outputs": [
    {
     "name": "stdout",
     "output_type": "stream",
     "text": [
      "300\n"
     ]
    }
   ],
   "source": [
    "my_screen = Screen()\n",
    "print(my_screen.canvheight)\n",
    "my_screen.exitonclick()\n",
    "# exitonclick is the method of the object \n",
    "# canvaheight is the attribute (property) of the objects or instances of the class Screen.\n",
    "# my_screen is the instance or the object of the class Screen\n",
    "# Screen is the class inside the module turtle\n"
   ]
  },
  {
   "cell_type": "code",
   "execution_count": null,
   "metadata": {},
   "outputs": [],
   "source": []
  }
 ],
 "metadata": {
  "kernelspec": {
   "display_name": "flamingo",
   "language": "python",
   "name": "python3"
  },
  "language_info": {
   "codemirror_mode": {
    "name": "ipython",
    "version": 3
   },
   "file_extension": ".py",
   "mimetype": "text/x-python",
   "name": "python",
   "nbconvert_exporter": "python",
   "pygments_lexer": "ipython3",
   "version": "3.11.5"
  }
 },
 "nbformat": 4,
 "nbformat_minor": 2
}
