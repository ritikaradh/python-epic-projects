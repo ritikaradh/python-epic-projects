{
 "cells": [
  {
   "cell_type": "markdown",
   "metadata": {},
   "source": [
    "# Coffee Machine \n",
    "### Espresso, Latte, Cappaccino"
   ]
  },
  {
   "cell_type": "code",
   "execution_count": 9,
   "metadata": {},
   "outputs": [],
   "source": [
    "coffee_requirement = {\n",
    "    \"espresso\" : {\"water\" : 50, \"coffee\" : 18, 'milk' : 0,},\n",
    "    \"latte\" : {\"water\" : 200, \"coffee\" : 24, \"milk\" : 150,},\n",
    "    \"cappuccino\" : {\"water\" : 250, \"coffee\" : 150, \"milk\" : 100,},\n",
    "}\n",
    "\n",
    "current_resources = {\n",
    "    \"water\" : 500s,\n",
    "    \"coffee\" : 500,\n",
    "    \"milk\" : 500,\n",
    "}\n",
    "\n",
    "current_money = 0\n",
    "\n",
    "price_of_coffee = {\"espresso\" : 2.5, \"latte\" : 3, \"cappuccino\" : 3.5}"
   ]
  },
  {
   "cell_type": "code",
   "execution_count": 10,
   "metadata": {},
   "outputs": [],
   "source": [
    "def money_check(coffee_order, entered_money, price_of_coffee):\n",
    "\n",
    "    if entered_money < price_of_coffee[coffee_order]:\n",
    "        return -1\n",
    "\n",
    "    elif entered_money == price_of_coffee[coffee_order]:\n",
    "        return 0\n",
    "    \n",
    "    else:\n",
    "        return 1\n"
   ]
  },
  {
   "cell_type": "code",
   "execution_count": 11,
   "metadata": {},
   "outputs": [],
   "source": [
    "def current_resource_check(coffee_order, coffee_requirement, current_resources):\n",
    "\n",
    "    for keys in current_resources:\n",
    "\n",
    "        if current_resources[keys] < coffee_requirement[coffee_order][keys]:\n",
    "            return keys\n",
    "        \n",
    "        else:\n",
    "            return 0"
   ]
  },
  {
   "cell_type": "code",
   "execution_count": 12,
   "metadata": {},
   "outputs": [
    {
     "name": "stdout",
     "output_type": "stream",
     "text": [
      "Please Insert Coins\n",
      "Here is your 3 change. \n",
      "Here is your coffee! Enjoy \n",
      "Please Insert Coins\n",
      "Here is your 1 change. \n",
      "Here is your coffee! Enjoy \n",
      "Sorry not enough water available\n"
     ]
    }
   ],
   "source": [
    "on_or_off = 3\n",
    "\n",
    "while on_or_off != 0:\n",
    "\n",
    "    coffee_order = input(\"What would you like? \")\n",
    "\n",
    "    if coffee_order == \"report\":\n",
    "\n",
    "        for keys, values in current_resources.items():\n",
    "            print(keys, values)\n",
    "\n",
    "        print(f\"money {current_money}\")\n",
    "\n",
    "        on_or_off -= 1\n",
    "        continue\n",
    "\n",
    "    resource = current_resource_check(coffee_order, coffee_requirement, current_resources)\n",
    "\n",
    "    if resource != 0:\n",
    "        print(f\"Sorry not enough {resource} available\")\n",
    "\n",
    "    else:\n",
    "\n",
    "        entered_money = 0\n",
    "        print(\"Please Insert Coins\")\n",
    "\n",
    "        entered_money += int(input(\"How many dims? \"))\n",
    "        entered_money += int(input(\"How many nickles? \"))\n",
    "        entered_money += int(input(\"How many pennies? \"))\n",
    "\n",
    "        money_checked = money_check(coffee_order, entered_money, price_of_coffee)\n",
    "\n",
    "        if money_checked == -1:\n",
    "            print(\"Money not sufficient. Here is your refund.\")\n",
    "\n",
    "        else:\n",
    "\n",
    "            if money_checked == 1:\n",
    "                print(f\"Here is your {entered_money - price_of_coffee[coffee_order]} change. \")\n",
    "        \n",
    "            print(\"Here is your coffee! Enjoy \")\n",
    "\n",
    "            #updating current resources\n",
    "            current_resources[\"water\"] -= coffee_requirement[coffee_order][\"water\"]\n",
    "            current_resources[\"coffee\"] -= coffee_requirement[coffee_order][\"water\"]\n",
    "            current_resources[\"milk\"] -= coffee_requirement[coffee_order][\"water\"]\n",
    "            current_money += price_of_coffee[coffee_order]\n",
    "\n",
    "    on_or_off -= 1"
   ]
  }
 ],
 "metadata": {
  "kernelspec": {
   "display_name": "flamingo",
   "language": "python",
   "name": "python3"
  },
  "language_info": {
   "codemirror_mode": {
    "name": "ipython",
    "version": 3
   },
   "file_extension": ".py",
   "mimetype": "text/x-python",
   "name": "python",
   "nbconvert_exporter": "python",
   "pygments_lexer": "ipython3",
   "version": "3.11.5"
  }
 },
 "nbformat": 4,
 "nbformat_minor": 2
}
