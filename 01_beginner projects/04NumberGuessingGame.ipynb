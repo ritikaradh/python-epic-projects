{
 "cells": [
  {
   "cell_type": "markdown",
   "metadata": {},
   "source": [
    "# Number Guessing Game\n",
    "## Flow-\n",
    "    a. computer chooses a nmuber btw 1-10.\n",
    "        randint\n",
    "    b. user input- hard or easy?\n",
    "        if hard\n",
    "            number of attempts- 3\n",
    "        else\n",
    "            number of attempts- 2\n",
    "\n",
    "       user input- guess a number btw 1 to 10/ computer is thinking of a number\n",
    "       btw 1-10.\n",
    "        if guess = number -> win\n",
    "        else while number of attempts = 0\n",
    "            call user input- guess a number\n",
    "    c. want to play again"
   ]
  },
  {
   "cell_type": "code",
   "execution_count": 12,
   "metadata": {},
   "outputs": [],
   "source": [
    "import random"
   ]
  },
  {
   "cell_type": "code",
   "execution_count": 13,
   "metadata": {},
   "outputs": [],
   "source": [
    "def compare(number, user_guess):\n",
    "    if number == user_guess:\n",
    "        return True\n",
    "    else:\n",
    "        return False"
   ]
  },
  {
   "cell_type": "code",
   "execution_count": 14,
   "metadata": {},
   "outputs": [
    {
     "name": "stdout",
     "output_type": "stream",
     "text": [
      "Hello Let's Start The Game!\n",
      "You have 5 chances left!\n",
      "You Win! The Number is 2\n",
      "Hello Let's Start The Game!\n",
      "You have 5 chances left!\n",
      "You have 4 chances left!\n",
      "You have 3 chances left!\n",
      "You have 2 chances left!\n",
      "You have 1 chances left!\n",
      "You lost. No chances left!\n",
      "The Number is 9\n",
      "Hello Let's Start The Game!\n",
      "You have 5 chances left!\n",
      "You have 4 chances left!\n",
      "You have 3 chances left!\n",
      "You Win! The Number is 6\n"
     ]
    }
   ],
   "source": [
    "want_to_play = True\n",
    "\n",
    "while want_to_play != False:\n",
    "\n",
    "    print(\"Hello Let's Start The Game!\")\n",
    "\n",
    "    user_mode = input(\"Choose 'Hard' or 'Easy' \")\n",
    "\n",
    "    if user_mode.lower() == \"hard\":\n",
    "        limit = 2\n",
    "    elif user_mode.lower() == \"easy\":\n",
    "        limit = 5\n",
    "    else:\n",
    "        pass\n",
    "\n",
    "    number = random.randint(1,10)\n",
    "\n",
    "    while (limit != 0):\n",
    "\n",
    "        print(f\"You have {limit} chances left!\")\n",
    "\n",
    "        user_guess = int(input(\"Enter a Guess\"))\n",
    "\n",
    "        result = compare(number, user_guess)\n",
    "\n",
    "        if result == True:\n",
    "            limit = 0\n",
    "            print(f\"You Win! The Number is {number}\")\n",
    "            continue\n",
    "        else:\n",
    "            limit -= 1\n",
    "            \n",
    "        if limit == 0:\n",
    "            print(\"You lost. No chances left!\")\n",
    "            print(f\"The Number is {number}\")\n",
    "\n",
    "    play_again = input(\"Want to Play Again? 'Yes' or 'No' \")\n",
    "    if play_again.lower() == \"no\":\n",
    "        want_to_play = False"
   ]
  }
 ],
 "metadata": {
  "kernelspec": {
   "display_name": "flamingo",
   "language": "python",
   "name": "python3"
  },
  "language_info": {
   "codemirror_mode": {
    "name": "ipython",
    "version": 3
   },
   "file_extension": ".py",
   "mimetype": "text/x-python",
   "name": "python",
   "nbconvert_exporter": "python",
   "pygments_lexer": "ipython3",
   "version": "3.11.5"
  }
 },
 "nbformat": 4,
 "nbformat_minor": 2
}
