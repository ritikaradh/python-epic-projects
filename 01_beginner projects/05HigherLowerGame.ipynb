{
 "cells": [
  {
   "cell_type": "markdown",
   "metadata": {},
   "source": [
    "# Higher Lower Game\n",
    "    Keep on Guessing who has more followers until you get it wrong\n",
    "    Once get wrong, ask the user if they want to play again."
   ]
  },
  {
   "cell_type": "code",
   "execution_count": 1,
   "metadata": {},
   "outputs": [],
   "source": [
    "import higherlowergamedata as gamedata\n",
    "import random"
   ]
  },
  {
   "cell_type": "code",
   "execution_count": 2,
   "metadata": {},
   "outputs": [],
   "source": [
    "def play_game():\n",
    "\n",
    "    compare = random.choice(gamedata.data)\n",
    "    against = random.choice(gamedata.data)\n",
    "\n",
    "    if compare[\"follower_count\"] > against[\"follower_count\"]:\n",
    "        answer = compare \n",
    "    elif against['follower_count'] > compare[\"follower_count\"]:\n",
    "        answer = against\n",
    "    else:\n",
    "        pass\n",
    "\n",
    "    print(f\"Compare {compare['name']}, a {compare['description']}, from {compare['country']}.\")\n",
    "    print(f\"Against {against['name']}, a {against['description']}, from {against['country']}.\")\n",
    "\n",
    "    user_guess = input(\"Who has more followers? Type 'A' or 'B': \")\n",
    "    \n",
    "    guess = \"\"\n",
    "    if user_guess == 'A':\n",
    "        guess = compare\n",
    "    elif user_guess == 'B':\n",
    "        guess = against\n",
    "    else:\n",
    "        pass\n",
    "    \n",
    "    return guess, answer"
   ]
  },
  {
   "cell_type": "code",
   "execution_count": 3,
   "metadata": {},
   "outputs": [],
   "source": [
    "def evaluation(guess, answer):\n",
    "    if guess == answer:\n",
    "        return 1\n",
    "    else:\n",
    "        return -1 "
   ]
  },
  {
   "cell_type": "code",
   "execution_count": 4,
   "metadata": {},
   "outputs": [
    {
     "name": "stdout",
     "output_type": "stream",
     "text": [
      "Hello, Let's Start!\n",
      "Compare Miley Cyrus, a Musician and actress, from United States.\n",
      "Against Justin Bieber, a Musician, from Canada.\n",
      "Well Done!\n",
      "Compare LeBron James, a Basketball player, from United States.\n",
      "Against Victoria's Secret, a Lingerie brand, from United States.\n",
      "Well Done!\n",
      "Compare David Beckham, a Footballer, from United Kingdom.\n",
      "Against Kylie Jenner, a Reality TV personality and businesswoman and Self-Made Billionaire, from United States.\n",
      "Well Done!\n",
      "Compare Lionel Messi, a Footballer, from Argentina.\n",
      "Against Katy Perry, a Musician, from United States.\n",
      "Well Done!\n",
      "Compare NBA, a Club Basketball Competition, from United States.\n",
      "Against Priyanka Chopra Jonas, a Actress and musician, from India.\n",
      "Well Done!\n",
      "Compare Ronaldinho, a Footballer, from Brasil.\n",
      "Against Khloé Kardashian, a Reality TV personality and businesswoman, from United States.\n",
      "Ouch! You Lost. Your Final Score is 5\n"
     ]
    }
   ],
   "source": [
    "want_to_play_again = \"yes\"\n",
    "while want_to_play_again == 'yes':\n",
    "\n",
    "    end_game = 1\n",
    "    score = 0\n",
    "    print (\"Hello, Let's Start!\")\n",
    "\n",
    "    while end_game == 1:\n",
    "\n",
    "        guess, answer = play_game()\n",
    "\n",
    "        end_game = evaluation(guess, answer)\n",
    "        if end_game == -1:\n",
    "            continue\n",
    "        print(\"Well Done!\")\n",
    "        score += 1\n",
    "            \n",
    "    print(f\"Ouch! You Lost. Your Final Score is {score}\")\n",
    "    want_to_play_again = input(\"Play Again? Type 'yes' or 'no'\").lower()"
   ]
  }
 ],
 "metadata": {
  "kernelspec": {
   "display_name": "flamingo",
   "language": "python",
   "name": "python3"
  },
  "language_info": {
   "codemirror_mode": {
    "name": "ipython",
    "version": 3
   },
   "file_extension": ".py",
   "mimetype": "text/x-python",
   "name": "python",
   "nbconvert_exporter": "python",
   "pygments_lexer": "ipython3",
   "version": "3.11.5"
  }
 },
 "nbformat": 4,
 "nbformat_minor": 2
}
