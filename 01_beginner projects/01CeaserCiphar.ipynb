{
 "cells": [
  {
   "cell_type": "markdown",
   "metadata": {},
   "source": [
    "# Ceaser Ciphar Game\n",
    "## Encode-Decode Game"
   ]
  },
  {
   "cell_type": "code",
   "execution_count": 1,
   "metadata": {},
   "outputs": [],
   "source": [
    "alphabets = ['a', 'b', 'c', 'd', 'e', 'f', 'g', 'h', 'i', 'j', 'k', 'l', 'm', 'n', 'o', 'p', 'q', 'r', 's', 't', 'u', 'v', 'w', 'x', 'y', 'z','a', 'b', 'c', 'd', 'e', 'f', 'g', 'h', 'i', 'j', 'k', 'l', 'm', 'n', 'o', 'p', 'q', 'r', 's', 't', 'u', 'v', 'w', 'x', 'y', 'z']"
   ]
  },
  {
   "cell_type": "code",
   "execution_count": 14,
   "metadata": {},
   "outputs": [
    {
     "name": "stdout",
     "output_type": "stream",
     "text": [
      "The decode message is abc\n"
     ]
    }
   ],
   "source": [
    "def ceaser_cipher(ciphar_direction, start_text, shift_amount):\n",
    "    ciphar_text = \"\"\n",
    "    for letter in start_text:\n",
    "        index_of_letter_in_alphabets = alphabets.index(letter)\n",
    "        letter_in_ciphar_text = alphabets[index_of_letter_in_alphabets + shift_amount]\n",
    "        if ciphar_direction == \"decode\":\n",
    "            letter_in_ciphar_text = alphabets[index_of_letter_in_alphabets - shift_amount]\n",
    "        ciphar_text += letter_in_ciphar_text\n",
    "    print(f\"The {ciphar_direction.upper()} message is {ciphar_text}\")\n",
    " \n",
    "direction = input('Enter \"encode\" for encryption and \"decode\" for decryption: ')\n",
    "text = input(\"Enter the message: \")\n",
    "shift = int(input(\"Enter the shift number\"))\n",
    "\n",
    "ceaser_cipher(ciphar_direction = direction, start_text = text, shift_amount = shift)  "
   ]
  },
  {
   "cell_type": "markdown",
   "metadata": {},
   "source": [
    "##bug alerts\n",
    "the user enters message where string count exceeds the len(alphabets)\n",
    "the user enters a message containing special characters and numbers\n",
    "\n",
    "DAY8"
   ]
  }
 ],
 "metadata": {
  "kernelspec": {
   "display_name": "flamingo",
   "language": "python",
   "name": "python3"
  },
  "language_info": {
   "codemirror_mode": {
    "name": "ipython",
    "version": 3
   },
   "file_extension": ".py",
   "mimetype": "text/x-python",
   "name": "python",
   "nbconvert_exporter": "python",
   "pygments_lexer": "ipython3",
   "version": "3.11.5"
  }
 },
 "nbformat": 4,
 "nbformat_minor": 2
}
