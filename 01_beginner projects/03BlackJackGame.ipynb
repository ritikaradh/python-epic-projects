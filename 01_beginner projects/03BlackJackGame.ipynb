{
 "cells": [
  {
   "cell_type": "markdown",
   "metadata": {},
   "source": [
    "# BlackJack Game or The 21 Game\n",
    "## Rules-\n",
    "    TRY TO GET TO CLOSER TO 21\n",
    "    IF EXCEEDS 21\n",
    "        \"BUST\" I.E., FAILED.\n",
    "    TRY TO RISK TO TAKE ANOTHER CARD.\n",
    "    REMAIN IN THE GAME UNTIL NO PLAYER IS LEFT.\n",
    "\n",
    "    KING, QUEEN, JACK = 10\n",
    "    ACE IS A SPECIAL CARD WHICH CAN EITHER BE COUNTED AS 1 OR 21 \n",
    "\n",
    "    IF YOU SAY YOU/DEALER DON'T WANT ANY OTHER CARD \n",
    "    YOU AND THE DEALER REVEALS THEIR CARDS\n",
    "        ANYONE WHOSE TOTAL SUM IS < 17 , THEY MUST TAKE A CARD. \n",
    "    IF BOTH OF YOU HAVE SAME TOTAL UP, THEN MATCH DRAWS OUT."
   ]
  },
  {
   "cell_type": "code",
   "execution_count": 71,
   "metadata": {},
   "outputs": [],
   "source": [
    "import random"
   ]
  },
  {
   "cell_type": "code",
   "execution_count": 72,
   "metadata": {},
   "outputs": [],
   "source": [
    "deck_of_cards = [\"King\", \"Queen\", \"Jack\", \"Ace\", 1, 2, 3, 4, 5, 6, 7, 8, 9,\n",
    "                 \"King\", \"Queen\", \"Jack\", \"Ace\", 1, 2, 3, 4, 5, 6, 7, 8, 9,\n",
    "                 \"King\", \"Queen\", \"Jack\", \"Ace\", 1, 2, 3, 4, 5, 6, 7, 8, 9,\n",
    "                 \"King\", \"Queen\", \"Jack\", \"Ace\", 1, 2, 3, 4, 5, 6, 7, 8, 9\n",
    "                 ]\n",
    "player1 = []\n",
    "dealer = []"
   ]
  },
  {
   "cell_type": "code",
   "execution_count": 73,
   "metadata": {},
   "outputs": [],
   "source": [
    "def return_card(deck_of_cards):\n",
    "    \"\"\"Returns a random card and the position of the random card from the deck\"\"\"\n",
    "\n",
    "    return random.choice(deck_of_cards)"
   ]
  },
  {
   "cell_type": "code",
   "execution_count": 74,
   "metadata": {},
   "outputs": [],
   "source": [
    "def calculate_score(cards):\n",
    "    \"\"\"Takes a list of cards and returns the sum of cards\"\"\"\n",
    "    \n",
    "    cards_list = []\n",
    "    \n",
    "    for card in cards:\n",
    "        if card == \"King\" or card == \"Queen\" or card == \"Jack\":\n",
    "            cards_list.append(10)\n",
    "        elif card == \"Ace\":\n",
    "            cards_list.append(11)\n",
    "        else:\n",
    "            cards_list.append(card)\n",
    "\n",
    "    if sum(cards_list) == 21 and len(cards_list) == 2:\n",
    "        return 0\n",
    "    else:\n",
    "        while(sum(cards_list) > 21 and 11 in cards_list):\n",
    "            cards_list.remove(11)\n",
    "            cards_list.append(1)\n",
    "        return sum(cards_list)\n"
   ]
  },
  {
   "cell_type": "code",
   "execution_count": 75,
   "metadata": {},
   "outputs": [],
   "source": [
    "def compare(dealer_score, player1_score):\n",
    "    \"\"\"Takes the score of dealer and player, compares them and return the result.\"\"\"\n",
    "    if player1_score == dealer_score:\n",
    "        return \"Draw\"\n",
    "    elif dealer_score == 0 or player1_score == 0:\n",
    "        if dealer_score == 0:\n",
    "            return \"Lose! oppenent has BLACKJACK\"\n",
    "        else:\n",
    "            return \"Win! You have BLACKJACK\"\n",
    "    elif dealer_score > 21 or player1_score > 21:\n",
    "        if dealer_score > 21:\n",
    "            return \"You win! Opponent went over 21\"\n",
    "        else:\n",
    "            return \"You lose! You went over 21\"\n",
    "    elif player1_score > dealer_score:\n",
    "        return \"You win!\"\n",
    "    else:\n",
    "        return \"Dealer win!\""
   ]
  },
  {
   "cell_type": "code",
   "execution_count": 76,
   "metadata": {},
   "outputs": [],
   "source": [
    "#Game starter\n",
    "for i in range(1,5):\n",
    "    new_card = return_card(deck_of_cards)\n",
    "    if i % 2 != 0:\n",
    "        dealer.append(new_card)\n",
    "    else:\n",
    "        player1.append(new_card)\n",
    "    deck_of_cards.remove(new_card)\n",
    "    random.shuffle(deck_of_cards)"
   ]
  },
  {
   "cell_type": "code",
   "execution_count": 77,
   "metadata": {},
   "outputs": [
    {
     "name": "stdout",
     "output_type": "stream",
     "text": [
      "Dealer's first card is 8 \n",
      "Your cards [6, 'King'] and total is 16\n",
      "Your cards [6, 'King', 5] and total is 21\n",
      "Your final hand is [6, 'King', 5] and the Dealer's Final hand is [8, 9]\n",
      "You win!\n"
     ]
    }
   ],
   "source": [
    "is_game_over = False\n",
    "dealer_score = calculate_score(dealer)\n",
    "\n",
    "if dealer_score == 0:\n",
    "    is_game_over = True\n",
    "else:\n",
    "    print(f\"Dealer's first card is {dealer[0]} \")\n",
    "\n",
    "while (is_game_over != True):\n",
    "    player1_score = calculate_score(player1)\n",
    "    \n",
    "    print(f\"Your cards {player1} and total is {player1_score}\")\n",
    "\n",
    "    if player1_score > 21 and 11 not in player1:\n",
    "        is_game_over  = True\n",
    "    else:\n",
    "        player1_want_another_card = input(\"Do you want more cards? Enter 'yes' or 'no': \")\n",
    "\n",
    "        if player1_want_another_card == \"yes\":\n",
    "            player1.append(return_card(deck_of_cards))\n",
    "        else:\n",
    "            is_game_over = True\n",
    "\n",
    "while (dealer_score < 17 and dealer_score != 0):\n",
    "    dealer.append(return_card(deck_of_cards))\n",
    "    dealer_score = calculate_score(dealer)\n",
    "    \n",
    "print(f\"Your final hand is {player1} and the Dealer's Final hand is {dealer}\")    \n",
    "print(compare(dealer_score, player1_score))"
   ]
  }
 ],
 "metadata": {
  "kernelspec": {
   "display_name": "flamingo",
   "language": "python",
   "name": "python3"
  },
  "language_info": {
   "codemirror_mode": {
    "name": "ipython",
    "version": 3
   },
   "file_extension": ".py",
   "mimetype": "text/x-python",
   "name": "python",
   "nbconvert_exporter": "python",
   "pygments_lexer": "ipython3",
   "version": "3.11.5"
  }
 },
 "nbformat": 4,
 "nbformat_minor": 2
}
