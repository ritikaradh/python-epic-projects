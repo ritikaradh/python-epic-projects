{
 "cells": [
  {
   "cell_type": "markdown",
   "metadata": {},
   "source": [
    "# Object Oriented Programming (OOPs) in Python\n",
    "\n",
    "### Contents-\n",
    "    1 Class- Class is a Blueprint\n",
    "    2 Object- Object is an instance of the class\n",
    "    3 Inheritance\n",
    "    4 Polymorphism\n",
    "    5 Abstraction\n",
    "    6 Encapsulation"
   ]
  },
  {
   "cell_type": "markdown",
   "metadata": {},
   "source": [
    "##### Notes-\n",
    "        1 Types of Cases-\n",
    "            i. Pascal Case- HelloWorld\n",
    "            ii. Camel Case- helloWorld\n",
    "            iii. Snake Case- hello_world or Hello_World\n",
    "        2 Class is always written in Pascal Case.\n",
    "        3 Attributes and Methods should be in Snake Case.\n",
    "        4 Diagramatic Representation of a Class (using '+' and '-' notations.)\n",
    "        5 Object Literals are available for Built-in Classes in Python.\n",
    "            e.g., a = list() //conventional method\n",
    "                  a = []     //object literal method\n",
    "                  b = str()\n",
    "                  b = \"\""
   ]
  },
  {
   "cell_type": "code",
   "execution_count": null,
   "metadata": {},
   "outputs": [],
   "source": [
    "class"
   ]
  },
  {
   "cell_type": "code",
   "execution_count": null,
   "metadata": {},
   "outputs": [],
   "source": []
  }
 ],
 "metadata": {
  "language_info": {
   "name": "python"
  }
 },
 "nbformat": 4,
 "nbformat_minor": 2
}
